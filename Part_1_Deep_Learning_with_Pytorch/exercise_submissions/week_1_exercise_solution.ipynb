{
 "cells": [
  {
   "cell_type": "markdown",
   "id": "02d40b65-7b19-4b91-bfc3-92a5cd686965",
   "metadata": {},
   "source": [
    "Arewa Data Science Academy\n",
    "Deep Learning Cohort1.0\n",
    "Name: Aminu Ukasha Aliyu\n",
    "Email: aminu.ukashaaliyu@gmail.com\n",
    "Title: Week 1 Solution"
   ]
  },
  {
   "cell_type": "code",
   "execution_count": 1,
   "id": "df960e8c-60cb-4ca8-b975-afc0743948c0",
   "metadata": {},
   "outputs": [],
   "source": [
    "import torch"
   ]
  },
  {
   "cell_type": "code",
   "execution_count": 21,
   "id": "e29bd7dd-263d-4633-8186-d1467eeb4f38",
   "metadata": {},
   "outputs": [
    {
     "name": "stdout",
     "output_type": "stream",
     "text": [
      "tensor([[0.3080, 0.8123, 0.8207, 0.9513, 0.1429, 0.3073, 0.4268],\n",
      "        [0.1861, 0.3188, 0.9439, 0.8315, 0.4132, 0.1832, 0.1247],\n",
      "        [0.9138, 0.4576, 0.5246, 0.9933, 0.6176, 0.9722, 0.5487],\n",
      "        [0.1261, 0.0722, 0.2024, 0.0949, 0.1437, 0.5279, 0.2894],\n",
      "        [0.3511, 0.9626, 0.2178, 0.1194, 0.7033, 0.4481, 0.3840],\n",
      "        [0.1868, 0.3739, 0.2615, 0.2475, 0.2067, 0.5301, 0.6882],\n",
      "        [0.1254, 0.3618, 0.3879, 0.0266, 0.2273, 0.3857, 0.5232]])\n"
     ]
    }
   ],
   "source": [
    "#question 2\n",
    "x = torch.rand(size=(7,7))\n",
    "print(x)"
   ]
  },
  {
   "cell_type": "code",
   "execution_count": 27,
   "id": "2bf3910d-1294-4324-be34-54691a231152",
   "metadata": {},
   "outputs": [
    {
     "data": {
      "text/plain": [
       "tensor([[2.6729],\n",
       "        [2.0692],\n",
       "        [3.3890],\n",
       "        [0.9980],\n",
       "        [1.7356],\n",
       "        [1.7436],\n",
       "        [1.4225]])"
      ]
     },
     "execution_count": 27,
     "metadata": {},
     "output_type": "execute_result"
    }
   ],
   "source": [
    "#question 3\n",
    "y = torch.rand(size=(1,7))\n",
    "y_t = torch.transpose(y, 0, 1)\n",
    "mult_ans = torch.matmul(x,y_t)\n",
    "mult_ans"
   ]
  },
  {
   "cell_type": "code",
   "execution_count": 31,
   "id": "35150887-48fb-4ba2-acd4-7bb7aae27cd1",
   "metadata": {},
   "outputs": [
    {
     "data": {
      "text/plain": [
       "tensor([[1.8542],\n",
       "        [1.9611],\n",
       "        [2.2884],\n",
       "        [3.0481],\n",
       "        [1.7067],\n",
       "        [2.5290],\n",
       "        [1.7989]])"
      ]
     },
     "execution_count": 31,
     "metadata": {},
     "output_type": "execute_result"
    }
   ],
   "source": [
    "#question 4\n",
    "seed = 0\n",
    "torch.manual_seed(seed)\n",
    "\n",
    "x = torch.rand(size=(7,7))\n",
    "y = torch.rand(size=(1,7))\n",
    "y_t = torch.transpose(y, 0, 1)\n",
    "mult_ans = torch.matmul(x,y_t)\n",
    "mult_ans"
   ]
  },
  {
   "cell_type": "code",
   "execution_count": 35,
   "id": "a7a20ed7-001e-4a81-9fa0-e5d0b81cd409",
   "metadata": {},
   "outputs": [
    {
     "data": {
      "text/plain": [
       "False"
      ]
     },
     "execution_count": 35,
     "metadata": {},
     "output_type": "execute_result"
    }
   ],
   "source": [
    "#question 5\n",
    "torch.cuda.is_available()"
   ]
  },
  {
   "cell_type": "code",
   "execution_count": 37,
   "id": "d6a19875-b0db-4b98-ae62-48e1a3cfec15",
   "metadata": {},
   "outputs": [],
   "source": [
    "#question 6\n",
    "#no gpu"
   ]
  },
  {
   "cell_type": "code",
   "execution_count": 41,
   "id": "2c063e3f-3491-4f99-9879-d29c75bcb16c",
   "metadata": {},
   "outputs": [
    {
     "data": {
      "text/plain": [
       "<torch._C.Generator at 0x1e7f1537af0>"
      ]
     },
     "execution_count": 41,
     "metadata": {},
     "output_type": "execute_result"
    }
   ],
   "source": [
    "#question 7\n",
    "x = torch.rand(size=(2,3))\n",
    "y = torch.rand(size=(2,3))\n",
    "\n",
    "torch.manual_seed(1234)"
   ]
  },
  {
   "cell_type": "code",
   "execution_count": 49,
   "id": "b8d1f2db-2782-46ec-b207-da2cefe614e6",
   "metadata": {},
   "outputs": [
    {
     "data": {
      "text/plain": [
       "tensor([[0.8921, 1.2261],\n",
       "        [0.9334, 1.0630]])"
      ]
     },
     "execution_count": 49,
     "metadata": {},
     "output_type": "execute_result"
    }
   ],
   "source": [
    "#question 7\n",
    "ans = torch.matmul(x,torch.transpose(y,0,1))\n",
    "ans"
   ]
  },
  {
   "cell_type": "code",
   "execution_count": 51,
   "id": "854c84e9-a012-44d2-ad5a-77e424678f15",
   "metadata": {},
   "outputs": [
    {
     "name": "stdout",
     "output_type": "stream",
     "text": [
      "Min: tensor(0.8921)\n",
      "Max: tensor(1.2261)\n"
     ]
    }
   ],
   "source": [
    "#question 8\n",
    "print('Min:', ans.min())\n",
    "print('Max:', ans.max())"
   ]
  },
  {
   "cell_type": "code",
   "execution_count": 61,
   "id": "98e5fb99-5e98-498f-b8e0-9f94247510d0",
   "metadata": {},
   "outputs": [
    {
     "name": "stdout",
     "output_type": "stream",
     "text": [
      "max index: tensor(1)\n",
      "min index: tensor(0)\n"
     ]
    }
   ],
   "source": [
    "#question 8\n",
    "print('max index:', torch.argmax(ans))\n",
    "print('min index:', torch.argmin(ans))"
   ]
  },
  {
   "cell_type": "code",
   "execution_count": 79,
   "id": "ba33a210-2a64-498a-841c-6104287de362",
   "metadata": {},
   "outputs": [
    {
     "name": "stdout",
     "output_type": "stream",
     "text": [
      "tensor([[[[0.5349, 0.1988, 0.6592, 0.6569, 0.2328, 0.4251, 0.2071, 0.6297,\n",
      "           0.3653, 0.8513]]]])\n",
      "torch.Size([1, 1, 1, 10])\n",
      "\n",
      "\n",
      "tensor([0.5349, 0.1988, 0.6592, 0.6569, 0.2328, 0.4251, 0.2071, 0.6297, 0.3653,\n",
      "        0.8513])\n",
      "torch.Size([10])\n"
     ]
    }
   ],
   "source": [
    "torch.manual_seed(7)\n",
    "x = torch.rand(size=(1, 1, 1, 10))\n",
    "y = torch.squeeze(x)\n",
    "\n",
    "print(x)\n",
    "print(x.shape)\n",
    "print('\\n')\n",
    "print(y)\n",
    "print(y.shape)"
   ]
  },
  {
   "cell_type": "code",
   "execution_count": null,
   "id": "4260f34d-f039-444c-ada8-9daebc1465cc",
   "metadata": {},
   "outputs": [],
   "source": []
  }
 ],
 "metadata": {
  "kernelspec": {
   "display_name": "Python 3 (ipykernel)",
   "language": "python",
   "name": "python3"
  },
  "language_info": {
   "codemirror_mode": {
    "name": "ipython",
    "version": 3
   },
   "file_extension": ".py",
   "mimetype": "text/x-python",
   "name": "python",
   "nbconvert_exporter": "python",
   "pygments_lexer": "ipython3",
   "version": "3.12.4"
  }
 },
 "nbformat": 4,
 "nbformat_minor": 5
}
